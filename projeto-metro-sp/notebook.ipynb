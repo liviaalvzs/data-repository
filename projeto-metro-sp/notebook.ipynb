{
 "cells": [
  {
   "cell_type": "code",
   "execution_count": null,
   "metadata": {},
   "outputs": [],
   "source": [
    "import geopandas as gpd\n",
    "import folium\n",
    "import json"
   ]
  },
  {
   "attachments": {},
   "cell_type": "markdown",
   "metadata": {},
   "source": [
    "## Importando e Convertendo os dados (.shp para .geojson)"
   ]
  },
  {
   "attachments": {},
   "cell_type": "markdown",
   "metadata": {},
   "source": [
    "🤍 [Link para fazer o download dos dados](https://centrodametropole.fflch.usp.br/pt-br/file/17846/download?token=ybw7O3f1)\n",
    "\n",
    "🤍 [Link da fonte dos dados](https://centrodametropole.fflch.usp.br/pt-br/download-de-dados)"
   ]
  },
  {
   "cell_type": "code",
   "execution_count": null,
   "metadata": {},
   "outputs": [],
   "source": [
    "# lê arquivo .shp como dataframe\n",
    "linhas_dataframe = gpd.read_file('Transporte Metroviário 2021 CEM/MetL_2021_CEM.shp')\n",
    "linhas_dataframe.head()"
   ]
  },
  {
   "cell_type": "code",
   "execution_count": null,
   "metadata": {},
   "outputs": [],
   "source": [
    "estacoes_dataframe.head()"
   ]
  },
  {
   "cell_type": "code",
   "execution_count": null,
   "metadata": {},
   "outputs": [],
   "source": [
    "# escreve arquivo .geojson \"linhas.geojson\" com os dados do dataframe criado acima\n",
    "linhas_dataframe.to_file(\"linhas.geojson\", driver = \"GeoJSON\")\n",
    "with open(\"linhas.geojson\") as geofile:\n",
    "    j_file = json.load(geofile)\n",
    "\n",
    "\n",
    "# escreve arquivo .geojson \"estacoes.geojson\" com os dados do dataframe criado acima\n",
    "estacoes_dataframe.to_file(\"estacoes.geojson\", driver = \"GeoJSON\")\n",
    "with open(\"estacoes.geojson\") as geofile:\n",
    "    j_file = json.load(geofile)"
   ]
  },
  {
   "attachments": {},
   "cell_type": "markdown",
   "metadata": {},
   "source": [
    "## Plotando os dados em um Mapa Simples"
   ]
  },
  {
   "cell_type": "code",
   "execution_count": null,
   "metadata": {},
   "outputs": [],
   "source": [
    "linhas = 'linhas.geojson'\n",
    "estacoes = 'estacoes.geojson'"
   ]
  },
  {
   "cell_type": "code",
   "execution_count": null,
   "metadata": {},
   "outputs": [],
   "source": [
    "m = folium.Map(location=([-23.533773, -46.625290]))\n",
    "folium.TileLayer('cartodbdark_matter').add_to(m)\n",
    "m.save('mapa.html')"
   ]
  },
  {
   "cell_type": "code",
   "execution_count": null,
   "metadata": {},
   "outputs": [],
   "source": [
    "m = folium.Map(location=([-23.533773, -46.625290]))\n",
    "\n",
    "folium.TileLayer('cartodbdark_matter').add_to(m)\n",
    "\n",
    "folium.GeoJson(linhas,\n",
    "               tooltip=folium.GeoJsonTooltip(fields=['NM_COR'])\n",
    "              ).add_to(m)\n",
    "\n",
    "m.save('mapa.html')"
   ]
  },
  {
   "cell_type": "code",
   "execution_count": null,
   "metadata": {},
   "outputs": [],
   "source": [
    "m = folium.Map(location=([-23.533773, -46.625290]))\n",
    "\n",
    "folium.TileLayer('cartodbdark_matter').add_to(m)\n",
    "\n",
    "folium.GeoJson(estacoes, name='geojson', \n",
    "               tooltip=folium.GeoJsonTooltip(fields=['NM_EST'])\n",
    "              ).add_to(m)\n",
    "\n",
    "m.save('mapa.html')"
   ]
  },
  {
   "attachments": {},
   "cell_type": "markdown",
   "metadata": {},
   "source": [
    "## Estilizando Mapas"
   ]
  },
  {
   "cell_type": "code",
   "execution_count": null,
   "metadata": {},
   "outputs": [],
   "source": [
    "\n",
    "# salva os nomes das linhas de trem/metrô (coluna \"NM_COLOR\") em um array \n",
    "names = list(linhas_dataframe['NM_COR'])\n",
    "# define as cores de cada linha\n",
    "colors = [\n",
    "    '#00a78e', # esmeralda 9\n",
    "    '#716eb3', # lilás 5\n",
    "    '#a5a698', # diamante 8\n",
    "    '#fec422', # amarela 4\n",
    "    '#ca006c', # rubi 7\n",
    "    '#008da8', # turquesa 10 \n",
    "    '#a8a9ad', # prata 15 \n",
    "    '#009b7b', # verde 2 \n",
    "    '#0079c2', # azul 1 \n",
    "    '#e51836', # vermelha 3\n",
    "    '#103e8c', # safira 12\n",
    "    '#21b159', # jade 13\n",
    "    '#f47320', # coral 11\n",
    "    ]\n",
    "\n",
    "# cria um dicionário que vai armazenar os nomes das linhas de trem/metrô e suas cores (nome:cor)\n",
    "dict_colors = {names[i]: colors[i] for i in range(len(names))}"
   ]
  },
  {
   "cell_type": "code",
   "execution_count": null,
   "metadata": {},
   "outputs": [],
   "source": [
    "print(f'LISTA DE NOMES => {names}')\n",
    "print(f'LISTA DE CORES => {colors}')\n",
    "print(f'DICIONARIO => {dict_colors}')"
   ]
  },
  {
   "cell_type": "code",
   "execution_count": null,
   "metadata": {},
   "outputs": [],
   "source": [
    "def get_colors(feature, dict):\n",
    "    for color_name in dict_colors:\n",
    "        if feature['properties']['NM_COR'] == color_name:\n",
    "            return dict_colors[color_name]"
   ]
  },
  {
   "cell_type": "code",
   "execution_count": null,
   "metadata": {},
   "outputs": [],
   "source": [
    "m = folium.Map(location=([-23.533773, -46.625290]), zoom_start=11.4)\n",
    "folium.TileLayer('cartodbdark_matter').add_to(m)\n",
    "\n",
    "folium.GeoJson(linhas, name='geojson', \n",
    "               tooltip=folium.GeoJsonTooltip(fields=['NM_COR']),\n",
    "               style_function = lambda feature: {'color':get_colors(feature, dict_colors), 'weight':4.5}\n",
    "              ).add_to(m)\n",
    "\n",
    "m.save('mapa.html')"
   ]
  },
  {
   "cell_type": "code",
   "execution_count": null,
   "metadata": {},
   "outputs": [],
   "source": [
    "m = folium.Map(location=([-23.533773, -46.625290]))\n",
    "folium.TileLayer('cartodbdark_matter').add_to(m)\n",
    "\n",
    "folium.GeoJson(estacoes, \n",
    "               name='geojson', \n",
    "               marker=folium.Circle(radius=30, fill_color=\"red\", fill_opacity=0.3, color=\"white\", weight=2),\n",
    "               tooltip=folium.GeoJsonTooltip(fields=['NM_EST'], aliases=['ESTAÇÃO:'], style=(\"background-color: grey; color: white; font-size: 15px\")), \n",
    "              ).add_to(m)\n",
    "\n",
    "m.save('mapa.html')"
   ]
  },
  {
   "attachments": {},
   "cell_type": "markdown",
   "metadata": {},
   "source": [
    "## Mapa Final"
   ]
  },
  {
   "cell_type": "code",
   "execution_count": null,
   "metadata": {},
   "outputs": [],
   "source": [
    "m = folium.Map(location=([-23.533773, -46.625290]))\n",
    "folium.TileLayer('cartodbdark_matter').add_to(m)\n",
    "\n",
    "folium.GeoJson(linhas, \n",
    "               name = 'geojson', \n",
    "               tooltip = folium.GeoJsonTooltip(fields=['NM_COR', 'OPERACAO'], aliases=['LINHA:', 'OPERAÇÃO:'], style=(\"background-color: grey; color: white; font-size: 15px\")),\n",
    "               style_function = lambda feature: {'color':get_colors(feature, dict_colors), 'fillOpacity':0.9, 'weight':4.5}\n",
    "              ).add_to(m)\n",
    "\n",
    "folium.GeoJson(estacoes, name='geojson', marker=folium.Circle(\n",
    "                   radius = 30,\n",
    "                   fill_color = \"red\",\n",
    "                   fill_opacity = 0.3,\n",
    "                   color = \"white\",\n",
    "                   weight = 2),\n",
    "                   tooltip = folium.GeoJsonTooltip(fields=['NM_EST', 'INICIO', 'DISTRITO'], aliases=['ESTAÇÃO:', 'INICIO:', 'DISTRITO:'], style=(\"background-color: grey; color: white; font-size: 15px\")), \n",
    "              ).add_to(m)\n",
    "\n",
    "m.save('mapa.html')"
   ]
  }
 ],
 "metadata": {
  "kernelspec": {
   "display_name": "middleprojs",
   "language": "python",
   "name": "python3"
  },
  "language_info": {
   "codemirror_mode": {
    "name": "ipython",
    "version": 3
   },
   "file_extension": ".py",
   "mimetype": "text/x-python",
   "name": "python",
   "nbconvert_exporter": "python",
   "pygments_lexer": "ipython3",
   "version": "3.10.10"
  },
  "orig_nbformat": 4
 },
 "nbformat": 4,
 "nbformat_minor": 2
}
